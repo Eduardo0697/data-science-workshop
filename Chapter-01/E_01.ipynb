{
 "cells": [
  {
   "cell_type": "markdown",
   "metadata": {},
   "source": [
    "## Create a dictonary"
   ]
  },
  {
   "cell_type": "code",
   "execution_count": 1,
   "metadata": {},
   "outputs": [],
   "source": [
    "algorithm = ['Linear Regression', 'Logistic Regression', 'Random Forest', 'a3c']"
   ]
  },
  {
   "cell_type": "code",
   "execution_count": 2,
   "metadata": {},
   "outputs": [],
   "source": [
    "learning = ['Supervised', 'Supervised', 'Supervised', 'Reinforcement']"
   ]
  },
  {
   "cell_type": "code",
   "execution_count": 3,
   "metadata": {},
   "outputs": [],
   "source": [
    "algorithm_type = ['Regression', 'Classification', 'Regression or Classification', 'Game AI']"
   ]
  },
  {
   "cell_type": "code",
   "execution_count": 4,
   "metadata": {},
   "outputs": [],
   "source": [
    "algorithm.append('k-means')"
   ]
  },
  {
   "cell_type": "code",
   "execution_count": 5,
   "metadata": {},
   "outputs": [
    {
     "name": "stdout",
     "output_type": "stream",
     "text": [
      "['Linear Regression', 'Logistic Regression', 'Random Forest', 'a3c', 'k-means']\n"
     ]
    }
   ],
   "source": [
    "print(algorithm)"
   ]
  },
  {
   "cell_type": "code",
   "execution_count": 6,
   "metadata": {},
   "outputs": [
    {
     "name": "stdout",
     "output_type": "stream",
     "text": [
      "['Supervised', 'Supervised', 'Supervised', 'Reinforcement', 'Unsupervised']\n"
     ]
    }
   ],
   "source": [
    "learning.append('Unsupervised')\n",
    "print(learning)"
   ]
  },
  {
   "cell_type": "code",
   "execution_count": 7,
   "metadata": {},
   "outputs": [
    {
     "name": "stdout",
     "output_type": "stream",
     "text": [
      "['Regression', 'Classification', 'Regression or Classification', 'Game AI', 'Clustering']\n"
     ]
    }
   ],
   "source": [
    "algorithm_type.append('Clustering')\n",
    "print(algorithm_type)"
   ]
  },
  {
   "cell_type": "code",
   "execution_count": 8,
   "metadata": {},
   "outputs": [],
   "source": [
    "machine_learning = {}"
   ]
  },
  {
   "cell_type": "code",
   "execution_count": 9,
   "metadata": {},
   "outputs": [
    {
     "name": "stdout",
     "output_type": "stream",
     "text": [
      "{'algorithm': ['Linear Regression', 'Logistic Regression', 'Random Forest', 'a3c', 'k-means']}\n"
     ]
    }
   ],
   "source": [
    "machine_learning['algorithm'] = algorithm\n",
    "print(machine_learning)"
   ]
  },
  {
   "cell_type": "code",
   "execution_count": 10,
   "metadata": {},
   "outputs": [
    {
     "name": "stdout",
     "output_type": "stream",
     "text": [
      "{'algorithm': ['Linear Regression', 'Logistic Regression', 'Random Forest', 'a3c', 'k-means'], 'learning': ['Supervised', 'Supervised', 'Supervised', 'Reinforcement', 'Unsupervised']}\n"
     ]
    }
   ],
   "source": [
    "machine_learning['learning'] = learning\n",
    "print(machine_learning)"
   ]
  },
  {
   "cell_type": "code",
   "execution_count": 11,
   "metadata": {},
   "outputs": [
    {
     "name": "stdout",
     "output_type": "stream",
     "text": [
      "{'algorithm': ['Linear Regression', 'Logistic Regression', 'Random Forest', 'a3c', 'k-means'], 'learning': ['Supervised', 'Supervised', 'Supervised', 'Reinforcement', 'Unsupervised'], 'algoritm_type': ['Regression', 'Classification', 'Regression or Classification', 'Game AI', 'Clustering']}\n"
     ]
    }
   ],
   "source": [
    "machine_learning['algoritm_type'] = algorithm_type\n",
    "print(machine_learning)"
   ]
  },
  {
   "cell_type": "code",
   "execution_count": 12,
   "metadata": {},
   "outputs": [
    {
     "name": "stdout",
     "output_type": "stream",
     "text": [
      "['Linear Regression', 'Logistic Regression', 'Random Forest', 'k-means']\n"
     ]
    }
   ],
   "source": [
    "machine_learning['algorithm'].remove('a3c')\n",
    "print(machine_learning['algorithm'])"
   ]
  },
  {
   "cell_type": "code",
   "execution_count": 13,
   "metadata": {},
   "outputs": [
    {
     "name": "stdout",
     "output_type": "stream",
     "text": [
      "['Supervised', 'Supervised', 'Supervised', 'Unsupervised']\n"
     ]
    }
   ],
   "source": [
    "machine_learning['learning'].remove('Reinforcement')\n",
    "print(machine_learning['learning'])"
   ]
  },
  {
   "cell_type": "code",
   "execution_count": 15,
   "metadata": {},
   "outputs": [
    {
     "name": "stdout",
     "output_type": "stream",
     "text": [
      "['Regression', 'Classification', 'Regression or Classification', 'Clustering']\n"
     ]
    }
   ],
   "source": [
    "machine_learning['algoritm_type'].remove('Game AI')\n",
    "print(machine_learning['algoritm_type'])"
   ]
  },
  {
   "cell_type": "code",
   "execution_count": null,
   "metadata": {},
   "outputs": [],
   "source": []
  }
 ],
 "metadata": {
  "kernelspec": {
   "display_name": "Python 3",
   "language": "python",
   "name": "python3"
  },
  "language_info": {
   "codemirror_mode": {
    "name": "ipython",
    "version": 3
   },
   "file_extension": ".py",
   "mimetype": "text/x-python",
   "name": "python",
   "nbconvert_exporter": "python",
   "pygments_lexer": "ipython3",
   "version": "3.8.2"
  }
 },
 "nbformat": 4,
 "nbformat_minor": 4
}
